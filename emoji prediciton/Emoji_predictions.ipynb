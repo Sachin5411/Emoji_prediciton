{
 "cells": [
  {
   "cell_type": "markdown",
   "metadata": {},
   "source": [
    "### Emoji Prediciton"
   ]
  },
  {
   "cell_type": "code",
   "execution_count": 1,
   "metadata": {},
   "outputs": [],
   "source": [
    "import emoji\n",
    "import pandas as pd\n",
    "import numpy as np"
   ]
  },
  {
   "cell_type": "code",
   "execution_count": 2,
   "metadata": {},
   "outputs": [],
   "source": [
    "train=pd.read_csv('train_emoji.csv')"
   ]
  },
  {
   "cell_type": "code",
   "execution_count": 40,
   "metadata": {},
   "outputs": [],
   "source": [
    "test=pd.read_csv('test_emoji.csv')"
   ]
  },
  {
   "cell_type": "code",
   "execution_count": 41,
   "metadata": {},
   "outputs": [
    {
     "data": {
      "text/html": [
       "<div>\n",
       "<style scoped>\n",
       "    .dataframe tbody tr th:only-of-type {\n",
       "        vertical-align: middle;\n",
       "    }\n",
       "\n",
       "    .dataframe tbody tr th {\n",
       "        vertical-align: top;\n",
       "    }\n",
       "\n",
       "    .dataframe thead th {\n",
       "        text-align: right;\n",
       "    }\n",
       "</style>\n",
       "<table border=\"1\" class=\"dataframe\">\n",
       "  <thead>\n",
       "    <tr style=\"text-align: right;\">\n",
       "      <th></th>\n",
       "      <th>I want to eat</th>\n",
       "      <th>4</th>\n",
       "    </tr>\n",
       "  </thead>\n",
       "  <tbody>\n",
       "    <tr>\n",
       "      <th>0</th>\n",
       "      <td>he did not answer\\t</td>\n",
       "      <td>3</td>\n",
       "    </tr>\n",
       "    <tr>\n",
       "      <th>1</th>\n",
       "      <td>he got a raise\\t</td>\n",
       "      <td>2</td>\n",
       "    </tr>\n",
       "    <tr>\n",
       "      <th>2</th>\n",
       "      <td>she got me a present\\t</td>\n",
       "      <td>0</td>\n",
       "    </tr>\n",
       "    <tr>\n",
       "      <th>3</th>\n",
       "      <td>ha ha ha it was so funny\\t</td>\n",
       "      <td>2</td>\n",
       "    </tr>\n",
       "    <tr>\n",
       "      <th>4</th>\n",
       "      <td>he is a good friend\\t</td>\n",
       "      <td>0</td>\n",
       "    </tr>\n",
       "  </tbody>\n",
       "</table>\n",
       "</div>"
      ],
      "text/plain": [
       "              I want to eat\\t  4\n",
       "0         he did not answer\\t  3\n",
       "1            he got a raise\\t  2\n",
       "2      she got me a present\\t  0\n",
       "3  ha ha ha it was so funny\\t  2\n",
       "4       he is a good friend\\t  0"
      ]
     },
     "execution_count": 41,
     "metadata": {},
     "output_type": "execute_result"
    }
   ],
   "source": [
    "test.head()"
   ]
  },
  {
   "cell_type": "code",
   "execution_count": 50,
   "metadata": {},
   "outputs": [],
   "source": [
    "testt=test.values\n",
    "x_test=testt[:,0]\n",
    "y_test=testt[:,1]"
   ]
  },
  {
   "cell_type": "code",
   "execution_count": 51,
   "metadata": {},
   "outputs": [
    {
     "data": {
      "text/plain": [
       "array([3, 2, 0, 2, 0, 0, 0, 4, 2, 1, 3, 3, 2, 1, 3, 3, 2, 3, 4, 0, 2, 4,\n",
       "       3, 3, 3, 3, 0, 2, 0, 0, 1, 3, 2, 0, 1, 2, 4, 4, 2, 2, 2, 0, 1, 2,\n",
       "       0, 2, 2, 2, 3, 3, 0, 3, 2, 2, 3], dtype=object)"
      ]
     },
     "execution_count": 51,
     "metadata": {},
     "output_type": "execute_result"
    }
   ],
   "source": [
    "y_test"
   ]
  },
  {
   "cell_type": "code",
   "execution_count": 4,
   "metadata": {},
   "outputs": [
    {
     "data": {
      "text/html": [
       "<div>\n",
       "<style scoped>\n",
       "    .dataframe tbody tr th:only-of-type {\n",
       "        vertical-align: middle;\n",
       "    }\n",
       "\n",
       "    .dataframe tbody tr th {\n",
       "        vertical-align: top;\n",
       "    }\n",
       "\n",
       "    .dataframe thead th {\n",
       "        text-align: right;\n",
       "    }\n",
       "</style>\n",
       "<table border=\"1\" class=\"dataframe\">\n",
       "  <thead>\n",
       "    <tr style=\"text-align: right;\">\n",
       "      <th></th>\n",
       "      <th>never talk to me again</th>\n",
       "      <th>3</th>\n",
       "      <th>Unnamed: 2</th>\n",
       "      <th>Unnamed: 3</th>\n",
       "    </tr>\n",
       "  </thead>\n",
       "  <tbody>\n",
       "    <tr>\n",
       "      <th>0</th>\n",
       "      <td>I am proud of your achievements</td>\n",
       "      <td>2</td>\n",
       "      <td>NaN</td>\n",
       "      <td>NaN</td>\n",
       "    </tr>\n",
       "    <tr>\n",
       "      <th>1</th>\n",
       "      <td>It is the worst day in my life</td>\n",
       "      <td>3</td>\n",
       "      <td>NaN</td>\n",
       "      <td>NaN</td>\n",
       "    </tr>\n",
       "    <tr>\n",
       "      <th>2</th>\n",
       "      <td>Miss you so much</td>\n",
       "      <td>0</td>\n",
       "      <td>NaN</td>\n",
       "      <td>[0]</td>\n",
       "    </tr>\n",
       "    <tr>\n",
       "      <th>3</th>\n",
       "      <td>food is life</td>\n",
       "      <td>4</td>\n",
       "      <td>NaN</td>\n",
       "      <td>NaN</td>\n",
       "    </tr>\n",
       "    <tr>\n",
       "      <th>4</th>\n",
       "      <td>I love you mum</td>\n",
       "      <td>0</td>\n",
       "      <td>NaN</td>\n",
       "      <td>NaN</td>\n",
       "    </tr>\n",
       "  </tbody>\n",
       "</table>\n",
       "</div>"
      ],
      "text/plain": [
       "            never talk to me again  3  Unnamed: 2 Unnamed: 3\n",
       "0  I am proud of your achievements  2         NaN        NaN\n",
       "1   It is the worst day in my life  3         NaN        NaN\n",
       "2                 Miss you so much  0         NaN        [0]\n",
       "3                     food is life  4         NaN        NaN\n",
       "4                   I love you mum  0         NaN        NaN"
      ]
     },
     "execution_count": 4,
     "metadata": {},
     "output_type": "execute_result"
    }
   ],
   "source": [
    "train.head()"
   ]
  },
  {
   "cell_type": "code",
   "execution_count": 7,
   "metadata": {},
   "outputs": [],
   "source": [
    "emoji_dict={'0': \":heart:\",'1': \":baseball:\",'2': \":smile:\",'3': \":disappointed:\",'4': \":fork_and_knife:\"}"
   ]
  },
  {
   "cell_type": "code",
   "execution_count": 86,
   "metadata": {},
   "outputs": [
    {
     "name": "stdout",
     "output_type": "stream",
     "text": [
      "❤\n",
      "⚾\n",
      "😄\n",
      "😞\n",
      "🍴\n"
     ]
    }
   ],
   "source": [
    "# for visualising\n",
    "for e in emoji_dict:\n",
    "    s=emoji.emojize(emoji_dict[e],use_aliases=True)\n",
    "    print(s)"
   ]
  },
  {
   "cell_type": "code",
   "execution_count": 9,
   "metadata": {},
   "outputs": [],
   "source": [
    "X=train.values\n",
    "Y=X[:,1]\n",
    "X=X[:,0]"
   ]
  },
  {
   "cell_type": "code",
   "execution_count": 10,
   "metadata": {},
   "outputs": [
    {
     "name": "stdout",
     "output_type": "stream",
     "text": [
      "(131,) (131,)\n"
     ]
    }
   ],
   "source": [
    "print(X.shape,Y.shape)"
   ]
  },
  {
   "cell_type": "code",
   "execution_count": 11,
   "metadata": {},
   "outputs": [
    {
     "name": "stderr",
     "output_type": "stream",
     "text": [
      "Using TensorFlow backend.\n"
     ]
    }
   ],
   "source": [
    "# Reading and processing glove vector file and preparing a pretrained embedding layer\n",
    "from keras.layers import *\n",
    "def readGloveFile(gloveFile):\n",
    "    with open(gloveFile, 'r',encoding='utf-8') as f:\n",
    "        wordToGlove = {}  \n",
    "        wordToIndex = {}  \n",
    "        indexToWord = {}  \n",
    "        for line in f:\n",
    "            record = line.strip().split()\n",
    "            token = record[0] \n",
    "            wordToGlove[token] = np.array(record[1:], dtype=np.float64)\n",
    "\n",
    "        tokens = sorted(wordToGlove.keys())\n",
    "        for idx, tok in enumerate(tokens):\n",
    "            kerasIdx = idx + 1 \n",
    "            wordToIndex[tok] = kerasIdx \n",
    "            indexToWord[kerasIdx] = tok \n",
    "\n",
    "    return wordToIndex, indexToWord, wordToGlove\n",
    "\n",
    "# Creating Pretrained Embedding Layer\n",
    "def createPretrainedEmbeddingLayer(wordToGlove, wordToIndex, isTrainable):\n",
    "    vocabLen = len(wordToIndex) + 1  \n",
    "    embDim = next(iter(wordToGlove.values())).shape[0] \n",
    "\n",
    "    embeddingMatrix = np.zeros((vocabLen, embDim)) \n",
    "    for word, index in wordToIndex.items():\n",
    "        embeddingMatrix[index, :] = wordToGlove[word]\n",
    "\n",
    "    embeddingLayer = Embedding(vocabLen, embDim, weights=[embeddingMatrix], trainable=isTrainable)\n",
    "    return embeddingLayer\n",
    "\n",
    "\n"
   ]
  },
  {
   "cell_type": "code",
   "execution_count": 12,
   "metadata": {},
   "outputs": [
    {
     "name": "stderr",
     "output_type": "stream",
     "text": [
      "WARNING: Logging before flag parsing goes to stderr.\n",
      "W0818 15:41:18.825506  8888 deprecation_wrapper.py:119] From c:\\users\\sachin\\appdata\\local\\programs\\python\\python36\\lib\\site-packages\\keras\\backend\\tensorflow_backend.py:74: The name tf.get_default_graph is deprecated. Please use tf.compat.v1.get_default_graph instead.\n",
      "\n"
     ]
    }
   ],
   "source": [
    "wordToIndex, indexToWord, wordmvnToGlove = readGloveFile(\"glove.6B.50d.txt\")\n",
    "pretrainedEmbeddingLayer = createPretrainedEmbeddingLayer(wordToGlove, wordToIndex, False)"
   ]
  },
  {
   "cell_type": "code",
   "execution_count": 14,
   "metadata": {},
   "outputs": [],
   "source": [
    "# padding of training data to maintain the uniformmity in our model\n",
    "\n",
    "from keras.preprocessing import sequence\n",
    "padded_list=[]\n",
    "for i in X:\n",
    "    i =i.split()\n",
    "    temp_list=[]\n",
    "    for j in i:\n",
    "        if wordToIndex.get(j):\n",
    "            temp_list.append(wordToIndex[j])\n",
    "        else:\n",
    "            temp_list.append(0)\n",
    "    \n",
    "    padded_seq=sequence.pad_sequences([temp_list],15,padding='post')\n",
    "    \n",
    "    #print(padded_seq)\n",
    "    padded_list.append(padded_seq)\n",
    "    \n",
    "padded_list=np.array(padded_list)"
   ]
  },
  {
   "cell_type": "code",
   "execution_count": 54,
   "metadata": {},
   "outputs": [],
   "source": [
    "#padding for test data\n",
    "from keras.preprocessing import sequence\n",
    "padded_test_list=[]\n",
    "for i in x_test:\n",
    "    i =i.split()\n",
    "    temp_list=[]\n",
    "    for j in i:\n",
    "        if wordToIndex.get(j):\n",
    "            temp_list.append(wordToIndex[j])\n",
    "        else:\n",
    "            temp_list.append(0)\n",
    "    \n",
    "    padded_seq=sequence.pad_sequences([temp_list],15,padding='post')\n",
    "    \n",
    "    #print(padded_seq)\n",
    "    padded_test_list.append(padded_seq)\n",
    "    \n",
    "padded_test_list=np.array(padded_test_list)"
   ]
  },
  {
   "cell_type": "code",
   "execution_count": 19,
   "metadata": {},
   "outputs": [
    {
     "name": "stdout",
     "output_type": "stream",
     "text": [
      "(131, 15)\n"
     ]
    }
   ],
   "source": [
    "#reshaping\n",
    "padded_list=padded_list.reshape(X.shape[0],15)\n",
    "print(padded_list.shape)"
   ]
  },
  {
   "cell_type": "code",
   "execution_count": 57,
   "metadata": {},
   "outputs": [
    {
     "name": "stdout",
     "output_type": "stream",
     "text": [
      "(55, 15)\n"
     ]
    }
   ],
   "source": [
    "padded_test_list=padded_test_list.reshape(x_test.shape[0],15)\n",
    "print(padded_test_list.shape)"
   ]
  },
  {
   "cell_type": "code",
   "execution_count": 20,
   "metadata": {},
   "outputs": [],
   "source": [
    "# converting ytrain and ytest into categorical data\n",
    "from keras.utils import np_utils\n",
    "y_c=np_utils.to_categorical(Y)"
   ]
  },
  {
   "cell_type": "code",
   "execution_count": 52,
   "metadata": {},
   "outputs": [],
   "source": [
    "y_ct=np_utils.to_categorical(y_test)"
   ]
  },
  {
   "cell_type": "code",
   "execution_count": 22,
   "metadata": {},
   "outputs": [
    {
     "data": {
      "text/plain": [
       "(131, 5)"
      ]
     },
     "execution_count": 22,
     "metadata": {},
     "output_type": "execute_result"
    }
   ],
   "source": [
    "y_c.shape"
   ]
  },
  {
   "cell_type": "code",
   "execution_count": 21,
   "metadata": {},
   "outputs": [],
   "source": [
    "from keras.models import Sequential"
   ]
  },
  {
   "cell_type": "code",
   "execution_count": 23,
   "metadata": {},
   "outputs": [
    {
     "name": "stderr",
     "output_type": "stream",
     "text": [
      "W0818 15:47:01.562141  8888 deprecation_wrapper.py:119] From c:\\users\\sachin\\appdata\\local\\programs\\python\\python36\\lib\\site-packages\\keras\\backend\\tensorflow_backend.py:517: The name tf.placeholder is deprecated. Please use tf.compat.v1.placeholder instead.\n",
      "\n",
      "W0818 15:47:01.852454  8888 deprecation_wrapper.py:119] From c:\\users\\sachin\\appdata\\local\\programs\\python\\python36\\lib\\site-packages\\keras\\backend\\tensorflow_backend.py:4138: The name tf.random_uniform is deprecated. Please use tf.random.uniform instead.\n",
      "\n",
      "W0818 15:47:01.971492  8888 deprecation_wrapper.py:119] From c:\\users\\sachin\\appdata\\local\\programs\\python\\python36\\lib\\site-packages\\keras\\backend\\tensorflow_backend.py:174: The name tf.get_default_session is deprecated. Please use tf.compat.v1.get_default_session instead.\n",
      "\n",
      "W0818 15:47:01.973487  8888 deprecation_wrapper.py:119] From c:\\users\\sachin\\appdata\\local\\programs\\python\\python36\\lib\\site-packages\\keras\\backend\\tensorflow_backend.py:181: The name tf.ConfigProto is deprecated. Please use tf.compat.v1.ConfigProto instead.\n",
      "\n",
      "W0818 15:47:04.500479  8888 deprecation.py:506] From c:\\users\\sachin\\appdata\\local\\programs\\python\\python36\\lib\\site-packages\\keras\\backend\\tensorflow_backend.py:3445: calling dropout (from tensorflow.python.ops.nn_ops) with keep_prob is deprecated and will be removed in a future version.\n",
      "Instructions for updating:\n",
      "Please use `rate` instead of `keep_prob`. Rate should be set to `rate = 1 - keep_prob`.\n"
     ]
    },
    {
     "name": "stdout",
     "output_type": "stream",
     "text": [
      "_________________________________________________________________\n",
      "Layer (type)                 Output Shape              Param #   \n",
      "=================================================================\n",
      "embedding_1 (Embedding)      (None, None, 50)          20000050  \n",
      "_________________________________________________________________\n",
      "lstm_1 (LSTM)                (None, 128)               91648     \n",
      "_________________________________________________________________\n",
      "dense_1 (Dense)              (None, 5)                 645       \n",
      "=================================================================\n",
      "Total params: 20,092,343\n",
      "Trainable params: 92,293\n",
      "Non-trainable params: 20,000,050\n",
      "_________________________________________________________________\n"
     ]
    }
   ],
   "source": [
    "model=Sequential()\n",
    "model.add(pretrainedEmbeddingLayer)\n",
    "model.add(LSTM(128,activation='tanh',dropout=0.3))\n",
    "\n",
    "model.add(Dense(5,activation='softmax'))\n",
    "model.summary()"
   ]
  },
  {
   "cell_type": "code",
   "execution_count": 59,
   "metadata": {},
   "outputs": [],
   "source": [
    "from keras.callbacks import ModelCheckpoint\n",
    "checkpoint =ModelCheckpoint('best_model.h5', monitor='val_acc', verbose=0, save_best_only=True, save_weights_only=False, mode='auto', period=1)"
   ]
  },
  {
   "cell_type": "code",
   "execution_count": 60,
   "metadata": {},
   "outputs": [],
   "source": [
    "model.compile(optimizer='adam',loss='categorical_crossentropy',metrics=['accuracy'])"
   ]
  },
  {
   "cell_type": "code",
   "execution_count": 61,
   "metadata": {},
   "outputs": [
    {
     "name": "stdout",
     "output_type": "stream",
     "text": [
      "Train on 131 samples, validate on 55 samples\n",
      "Epoch 1/150\n",
      "131/131 [==============================] - 1s 10ms/step - loss: 0.1235 - acc: 0.9695 - val_loss: 1.4855 - val_acc: 0.6545\n",
      "Epoch 2/150\n",
      "131/131 [==============================] - 0s 639us/step - loss: 0.0848 - acc: 0.9618 - val_loss: 1.5791 - val_acc: 0.6545\n",
      "Epoch 3/150\n",
      "131/131 [==============================] - 0s 678us/step - loss: 0.2220 - acc: 0.9160 - val_loss: 1.6915 - val_acc: 0.5818\n",
      "Epoch 4/150\n",
      "131/131 [==============================] - 0s 678us/step - loss: 0.0855 - acc: 0.9771 - val_loss: 1.8985 - val_acc: 0.5818\n",
      "Epoch 5/150\n",
      "131/131 [==============================] - 0s 898us/step - loss: 0.1278 - acc: 0.9466 - val_loss: 1.7857 - val_acc: 0.6000\n",
      "Epoch 6/150\n",
      "131/131 [==============================] - 0s 868us/step - loss: 0.0915 - acc: 0.9695 - val_loss: 1.6725 - val_acc: 0.6000\n",
      "Epoch 7/150\n",
      "131/131 [==============================] - 0s 571us/step - loss: 0.0846 - acc: 0.9771 - val_loss: 1.6867 - val_acc: 0.6182\n",
      "Epoch 8/150\n",
      "131/131 [==============================] - 0s 708us/step - loss: 0.0707 - acc: 0.9695 - val_loss: 1.8372 - val_acc: 0.6182\n",
      "Epoch 9/150\n",
      "131/131 [==============================] - 0s 738us/step - loss: 0.0698 - acc: 0.9847 - val_loss: 1.9107 - val_acc: 0.5818\n",
      "Epoch 10/150\n",
      "131/131 [==============================] - 0s 700us/step - loss: 0.1458 - acc: 0.9618 - val_loss: 1.9306 - val_acc: 0.6182\n",
      "Epoch 11/150\n",
      "131/131 [==============================] - 0s 936us/step - loss: 0.0660 - acc: 0.9771 - val_loss: 1.8149 - val_acc: 0.6364\n",
      "Epoch 12/150\n",
      "131/131 [==============================] - 0s 830us/step - loss: 0.0933 - acc: 0.9618 - val_loss: 1.8459 - val_acc: 0.6182\n",
      "Epoch 13/150\n",
      "131/131 [==============================] - 0s 678us/step - loss: 0.2078 - acc: 0.9313 - val_loss: 1.8782 - val_acc: 0.6000\n",
      "Epoch 14/150\n",
      "131/131 [==============================] - 0s 693us/step - loss: 0.1176 - acc: 0.9618 - val_loss: 2.0279 - val_acc: 0.6000\n",
      "Epoch 15/150\n",
      "131/131 [==============================] - 0s 609us/step - loss: 0.1275 - acc: 0.9313 - val_loss: 2.0528 - val_acc: 0.6000\n",
      "Epoch 16/150\n",
      "131/131 [==============================] - 0s 693us/step - loss: 0.0959 - acc: 0.9695 - val_loss: 2.1520 - val_acc: 0.5818\n",
      "Epoch 17/150\n",
      "131/131 [==============================] - 0s 769us/step - loss: 0.1150 - acc: 0.9618 - val_loss: 2.0694 - val_acc: 0.6182\n",
      "Epoch 18/150\n",
      "131/131 [==============================] - 0s 3ms/step - loss: 0.1375 - acc: 0.9466 - val_loss: 1.9230 - val_acc: 0.6182\n",
      "Epoch 19/150\n",
      "131/131 [==============================] - 0s 2ms/step - loss: 0.0560 - acc: 0.9847 - val_loss: 1.7911 - val_acc: 0.6182\n",
      "Epoch 20/150\n",
      "131/131 [==============================] - 0s 1ms/step - loss: 0.2662 - acc: 0.9008 - val_loss: 1.7528 - val_acc: 0.6182\n",
      "Epoch 21/150\n",
      "131/131 [==============================] - 0s 876us/step - loss: 0.1312 - acc: 0.9618 - val_loss: 1.7150 - val_acc: 0.6182\n",
      "Epoch 22/150\n",
      "131/131 [==============================] - 0s 898us/step - loss: 0.1636 - acc: 0.9618 - val_loss: 1.7808 - val_acc: 0.6182\n",
      "Epoch 23/150\n",
      "131/131 [==============================] - 0s 921us/step - loss: 0.1033 - acc: 0.9542 - val_loss: 1.8069 - val_acc: 0.6364\n",
      "Epoch 24/150\n",
      "131/131 [==============================] - 0s 1ms/step - loss: 0.1236 - acc: 0.9466 - val_loss: 1.9540 - val_acc: 0.6182\n",
      "Epoch 25/150\n",
      "131/131 [==============================] - 0s 2ms/step - loss: 0.1895 - acc: 0.9160 - val_loss: 2.0377 - val_acc: 0.6182\n",
      "Epoch 26/150\n",
      "131/131 [==============================] - 0s 2ms/step - loss: 0.3683 - acc: 0.8931 - val_loss: 1.8528 - val_acc: 0.5818\n",
      "Epoch 27/150\n",
      "131/131 [==============================] - 0s 1ms/step - loss: 0.1685 - acc: 0.9237 - val_loss: 1.7186 - val_acc: 0.5636\n",
      "Epoch 28/150\n",
      "131/131 [==============================] - 0s 1ms/step - loss: 0.1360 - acc: 0.9618 - val_loss: 1.7441 - val_acc: 0.5455\n",
      "Epoch 29/150\n",
      "131/131 [==============================] - 0s 1ms/step - loss: 0.1243 - acc: 0.9542 - val_loss: 1.7647 - val_acc: 0.5636\n",
      "Epoch 30/150\n",
      "131/131 [==============================] - 0s 1ms/step - loss: 0.1812 - acc: 0.9160 - val_loss: 1.7009 - val_acc: 0.5273\n",
      "Epoch 31/150\n",
      "131/131 [==============================] - 0s 2ms/step - loss: 0.1269 - acc: 0.9466 - val_loss: 1.6092 - val_acc: 0.5273\n",
      "Epoch 32/150\n",
      "131/131 [==============================] - 0s 1ms/step - loss: 0.1024 - acc: 0.9542 - val_loss: 1.5411 - val_acc: 0.5818\n",
      "Epoch 33/150\n",
      "131/131 [==============================] - 0s 1ms/step - loss: 0.0926 - acc: 0.9542 - val_loss: 1.4867 - val_acc: 0.6364\n",
      "Epoch 34/150\n",
      "131/131 [==============================] - 0s 997us/step - loss: 0.1302 - acc: 0.9618 - val_loss: 1.4704 - val_acc: 0.6364\n",
      "Epoch 35/150\n",
      "131/131 [==============================] - 0s 3ms/step - loss: 0.1076 - acc: 0.9618 - val_loss: 1.5161 - val_acc: 0.6727\n",
      "Epoch 36/150\n",
      "131/131 [==============================] - 0s 1ms/step - loss: 0.1011 - acc: 0.9618 - val_loss: 1.6303 - val_acc: 0.6182\n",
      "Epoch 37/150\n",
      "131/131 [==============================] - 0s 1ms/step - loss: 0.1029 - acc: 0.9771 - val_loss: 1.7013 - val_acc: 0.5818\n",
      "Epoch 38/150\n",
      "131/131 [==============================] - 0s 1ms/step - loss: 0.1096 - acc: 0.9771 - val_loss: 1.6969 - val_acc: 0.5818\n",
      "Epoch 39/150\n",
      "131/131 [==============================] - 0s 2ms/step - loss: 0.0945 - acc: 0.9618 - val_loss: 1.6336 - val_acc: 0.6000\n",
      "Epoch 40/150\n",
      "131/131 [==============================] - 0s 2ms/step - loss: 0.0937 - acc: 0.9695 - val_loss: 1.5525 - val_acc: 0.6182\n",
      "Epoch 41/150\n",
      "131/131 [==============================] - 0s 2ms/step - loss: 0.0996 - acc: 0.9618 - val_loss: 1.5009 - val_acc: 0.6182\n",
      "Epoch 42/150\n",
      "131/131 [==============================] - 0s 822us/step - loss: 0.0891 - acc: 0.9771 - val_loss: 1.5162 - val_acc: 0.5636\n",
      "Epoch 43/150\n",
      "131/131 [==============================] - 0s 2ms/step - loss: 0.1144 - acc: 0.9695 - val_loss: 1.5064 - val_acc: 0.5636\n",
      "Epoch 44/150\n",
      "131/131 [==============================] - 0s 1ms/step - loss: 0.0643 - acc: 0.9771 - val_loss: 1.5398 - val_acc: 0.6364\n",
      "Epoch 45/150\n",
      "131/131 [==============================] - 0s 769us/step - loss: 0.0646 - acc: 0.9771 - val_loss: 1.6914 - val_acc: 0.5273\n",
      "Epoch 46/150\n",
      "131/131 [==============================] - 0s 936us/step - loss: 0.0821 - acc: 0.9847 - val_loss: 1.8010 - val_acc: 0.5273\n",
      "Epoch 47/150\n",
      "131/131 [==============================] - 0s 868us/step - loss: 0.1546 - acc: 0.9313 - val_loss: 1.7720 - val_acc: 0.5273\n",
      "Epoch 48/150\n",
      "131/131 [==============================] - 0s 944us/step - loss: 0.0545 - acc: 0.9847 - val_loss: 1.6916 - val_acc: 0.5455\n",
      "Epoch 49/150\n",
      "131/131 [==============================] - 0s 3ms/step - loss: 0.0687 - acc: 0.9847 - val_loss: 1.6169 - val_acc: 0.6182\n",
      "Epoch 50/150\n",
      "131/131 [==============================] - 0s 2ms/step - loss: 0.0874 - acc: 0.9695 - val_loss: 1.5999 - val_acc: 0.6000\n",
      "Epoch 51/150\n",
      "131/131 [==============================] - 0s 723us/step - loss: 0.0350 - acc: 0.9847 - val_loss: 1.6015 - val_acc: 0.5818\n",
      "Epoch 52/150\n",
      "131/131 [==============================] - 0s 1ms/step - loss: 0.0811 - acc: 0.9847 - val_loss: 1.6085 - val_acc: 0.5818\n",
      "Epoch 53/150\n",
      "131/131 [==============================] - 0s 1ms/step - loss: 0.0837 - acc: 0.9771 - val_loss: 1.6187 - val_acc: 0.6182\n",
      "Epoch 54/150\n",
      "131/131 [==============================] - 0s 3ms/step - loss: 0.0777 - acc: 0.9695 - val_loss: 1.6185 - val_acc: 0.6182\n",
      "Epoch 55/150\n",
      "131/131 [==============================] - 0s 1ms/step - loss: 0.0524 - acc: 0.9771 - val_loss: 1.6382 - val_acc: 0.6364\n",
      "Epoch 56/150\n",
      "131/131 [==============================] - 0s 1ms/step - loss: 0.0861 - acc: 0.9695 - val_loss: 1.7004 - val_acc: 0.6182\n",
      "Epoch 57/150\n",
      "131/131 [==============================] - 0s 3ms/step - loss: 0.0944 - acc: 0.9618 - val_loss: 1.7095 - val_acc: 0.6364\n",
      "Epoch 58/150\n",
      "131/131 [==============================] - 0s 1ms/step - loss: 0.0475 - acc: 0.9924 - val_loss: 1.7086 - val_acc: 0.6364\n",
      "Epoch 59/150\n",
      "131/131 [==============================] - 0s 1ms/step - loss: 0.0901 - acc: 0.9466 - val_loss: 1.7151 - val_acc: 0.6182\n",
      "Epoch 60/150\n",
      "131/131 [==============================] - 0s 723us/step - loss: 0.1452 - acc: 0.9542 - val_loss: 1.7406 - val_acc: 0.6364\n",
      "Epoch 61/150\n"
     ]
    },
    {
     "name": "stdout",
     "output_type": "stream",
     "text": [
      "131/131 [==============================] - 0s 1ms/step - loss: 0.0882 - acc: 0.9771 - val_loss: 1.7545 - val_acc: 0.6364\n",
      "Epoch 62/150\n",
      "131/131 [==============================] - 0s 2ms/step - loss: 0.0493 - acc: 0.9924 - val_loss: 1.7566 - val_acc: 0.6545\n",
      "Epoch 63/150\n",
      "131/131 [==============================] - 0s 959us/step - loss: 0.0618 - acc: 0.9695 - val_loss: 1.7363 - val_acc: 0.6364\n",
      "Epoch 64/150\n",
      "131/131 [==============================] - 0s 906us/step - loss: 0.0400 - acc: 0.9847 - val_loss: 1.7404 - val_acc: 0.6182\n",
      "Epoch 65/150\n",
      "131/131 [==============================] - 0s 876us/step - loss: 0.0736 - acc: 0.9695 - val_loss: 1.7529 - val_acc: 0.6545\n",
      "Epoch 66/150\n",
      "131/131 [==============================] - 0s 975us/step - loss: 0.0390 - acc: 0.9847 - val_loss: 1.7531 - val_acc: 0.6545\n",
      "Epoch 67/150\n",
      "131/131 [==============================] - 0s 898us/step - loss: 0.0747 - acc: 0.9771 - val_loss: 1.6064 - val_acc: 0.6545\n",
      "Epoch 68/150\n",
      "131/131 [==============================] - 0s 731us/step - loss: 0.0940 - acc: 0.9695 - val_loss: 1.6572 - val_acc: 0.6545\n",
      "Epoch 69/150\n",
      "131/131 [==============================] - 0s 624us/step - loss: 0.2443 - acc: 0.9160 - val_loss: 1.6360 - val_acc: 0.6182\n",
      "Epoch 70/150\n",
      "131/131 [==============================] - 0s 700us/step - loss: 0.0632 - acc: 0.9847 - val_loss: 1.5542 - val_acc: 0.6000\n",
      "Epoch 71/150\n",
      "131/131 [==============================] - 0s 1ms/step - loss: 0.0424 - acc: 0.9924 - val_loss: 1.6457 - val_acc: 0.5636\n",
      "Epoch 72/150\n",
      "131/131 [==============================] - 0s 2ms/step - loss: 0.0826 - acc: 0.9618 - val_loss: 1.6697 - val_acc: 0.5455\n",
      "Epoch 73/150\n",
      "131/131 [==============================] - 0s 1ms/step - loss: 0.0450 - acc: 0.9924 - val_loss: 1.7024 - val_acc: 0.5636\n",
      "Epoch 74/150\n",
      "131/131 [==============================] - 0s 936us/step - loss: 0.1008 - acc: 0.9847 - val_loss: 1.6781 - val_acc: 0.5818\n",
      "Epoch 75/150\n",
      "131/131 [==============================] - 0s 716us/step - loss: 0.1050 - acc: 0.9771 - val_loss: 1.5892 - val_acc: 0.6182\n",
      "Epoch 76/150\n",
      "131/131 [==============================] - 0s 716us/step - loss: 0.1812 - acc: 0.9160 - val_loss: 1.5112 - val_acc: 0.6182\n",
      "Epoch 77/150\n",
      "131/131 [==============================] - 0s 860us/step - loss: 0.1484 - acc: 0.9618 - val_loss: 1.4485 - val_acc: 0.6000\n",
      "Epoch 78/150\n",
      "131/131 [==============================] - 0s 777us/step - loss: 0.0640 - acc: 0.9695 - val_loss: 1.4498 - val_acc: 0.6182\n",
      "Epoch 79/150\n",
      "131/131 [==============================] - 0s 982us/step - loss: 0.0738 - acc: 0.9847 - val_loss: 1.5052 - val_acc: 0.6000\n",
      "Epoch 80/150\n",
      "131/131 [==============================] - 0s 662us/step - loss: 0.0659 - acc: 0.9771 - val_loss: 1.5430 - val_acc: 0.6000\n",
      "Epoch 81/150\n",
      "131/131 [==============================] - 0s 777us/step - loss: 0.0626 - acc: 0.9847 - val_loss: 1.5752 - val_acc: 0.6364\n",
      "Epoch 82/150\n",
      "131/131 [==============================] - 0s 655us/step - loss: 0.0474 - acc: 0.9847 - val_loss: 1.5978 - val_acc: 0.6182\n",
      "Epoch 83/150\n",
      "131/131 [==============================] - 0s 670us/step - loss: 0.0346 - acc: 0.9924 - val_loss: 1.6148 - val_acc: 0.6000\n",
      "Epoch 84/150\n",
      "131/131 [==============================] - 0s 723us/step - loss: 0.0188 - acc: 1.0000 - val_loss: 1.6186 - val_acc: 0.6000\n",
      "Epoch 85/150\n",
      "131/131 [==============================] - 0s 594us/step - loss: 0.0577 - acc: 0.9847 - val_loss: 1.6146 - val_acc: 0.6000\n",
      "Epoch 86/150\n",
      "131/131 [==============================] - 0s 662us/step - loss: 0.0755 - acc: 0.9847 - val_loss: 1.6193 - val_acc: 0.6000\n",
      "Epoch 87/150\n",
      "131/131 [==============================] - 0s 906us/step - loss: 0.0345 - acc: 0.9924 - val_loss: 1.6458 - val_acc: 0.5636\n",
      "Epoch 88/150\n",
      "131/131 [==============================] - 0s 640us/step - loss: 0.0300 - acc: 0.9924 - val_loss: 1.6595 - val_acc: 0.5636\n",
      "Epoch 89/150\n",
      "131/131 [==============================] - 0s 525us/step - loss: 0.0462 - acc: 0.9847 - val_loss: 1.6544 - val_acc: 0.5818\n",
      "Epoch 90/150\n",
      "131/131 [==============================] - 0s 792us/step - loss: 0.0347 - acc: 0.9847 - val_loss: 1.6625 - val_acc: 0.5818\n",
      "Epoch 91/150\n",
      "131/131 [==============================] - 0s 860us/step - loss: 0.0275 - acc: 1.0000 - val_loss: 1.6897 - val_acc: 0.5818\n",
      "Epoch 92/150\n",
      "131/131 [==============================] - 0s 624us/step - loss: 0.0696 - acc: 0.9771 - val_loss: 1.7255 - val_acc: 0.6000\n",
      "Epoch 93/150\n",
      "131/131 [==============================] - 0s 746us/step - loss: 0.0184 - acc: 1.0000 - val_loss: 1.7200 - val_acc: 0.6000\n",
      "Epoch 94/150\n",
      "131/131 [==============================] - 0s 822us/step - loss: 0.0194 - acc: 0.9924 - val_loss: 1.7305 - val_acc: 0.6182\n",
      "Epoch 95/150\n",
      "131/131 [==============================] - 0s 533us/step - loss: 0.0867 - acc: 0.9771 - val_loss: 1.7853 - val_acc: 0.6364\n",
      "Epoch 96/150\n",
      "131/131 [==============================] - 0s 624us/step - loss: 0.0595 - acc: 0.9771 - val_loss: 1.7731 - val_acc: 0.6364\n",
      "Epoch 97/150\n",
      "131/131 [==============================] - 0s 609us/step - loss: 0.1099 - acc: 0.9695 - val_loss: 1.6941 - val_acc: 0.6182\n",
      "Epoch 98/150\n",
      "131/131 [==============================] - 0s 632us/step - loss: 0.0161 - acc: 1.0000 - val_loss: 1.7016 - val_acc: 0.6364\n",
      "Epoch 99/150\n",
      "131/131 [==============================] - 0s 723us/step - loss: 0.0315 - acc: 0.9924 - val_loss: 1.7314 - val_acc: 0.6364\n",
      "Epoch 100/150\n",
      "131/131 [==============================] - 0s 830us/step - loss: 0.0276 - acc: 1.0000 - val_loss: 1.7595 - val_acc: 0.6000\n",
      "Epoch 101/150\n",
      "131/131 [==============================] - 0s 632us/step - loss: 0.0468 - acc: 0.9771 - val_loss: 1.7686 - val_acc: 0.6000\n",
      "Epoch 102/150\n",
      "131/131 [==============================] - 0s 891us/step - loss: 0.0278 - acc: 0.9847 - val_loss: 1.7706 - val_acc: 0.6364\n",
      "Epoch 103/150\n",
      "131/131 [==============================] - 0s 830us/step - loss: 0.0183 - acc: 1.0000 - val_loss: 1.7916 - val_acc: 0.6364\n",
      "Epoch 104/150\n",
      "131/131 [==============================] - 0s 738us/step - loss: 0.0520 - acc: 0.9847 - val_loss: 1.7914 - val_acc: 0.6364\n",
      "Epoch 105/150\n",
      "131/131 [==============================] - 0s 769us/step - loss: 0.0852 - acc: 0.9695 - val_loss: 1.7724 - val_acc: 0.5818\n",
      "Epoch 106/150\n",
      "131/131 [==============================] - 0s 670us/step - loss: 0.0955 - acc: 0.9542 - val_loss: 1.8973 - val_acc: 0.5636\n",
      "Epoch 107/150\n",
      "131/131 [==============================] - 0s 670us/step - loss: 0.1093 - acc: 0.9618 - val_loss: 1.9764 - val_acc: 0.5818\n",
      "Epoch 108/150\n",
      "131/131 [==============================] - 0s 502us/step - loss: 0.1488 - acc: 0.9466 - val_loss: 2.0224 - val_acc: 0.5636\n",
      "Epoch 109/150\n",
      "131/131 [==============================] - 0s 716us/step - loss: 0.1710 - acc: 0.9313 - val_loss: 1.9301 - val_acc: 0.5636\n",
      "Epoch 110/150\n",
      "131/131 [==============================] - 0s 624us/step - loss: 0.2397 - acc: 0.9237 - val_loss: 1.8901 - val_acc: 0.5636\n",
      "Epoch 111/150\n",
      "131/131 [==============================] - 0s 685us/step - loss: 0.2230 - acc: 0.9313 - val_loss: 1.8780 - val_acc: 0.5636\n",
      "Epoch 112/150\n",
      "131/131 [==============================] - 0s 594us/step - loss: 0.1949 - acc: 0.9313 - val_loss: 1.8559 - val_acc: 0.5818\n",
      "Epoch 113/150\n",
      "131/131 [==============================] - 0s 495us/step - loss: 0.0400 - acc: 0.9847 - val_loss: 1.7891 - val_acc: 0.5818\n",
      "Epoch 114/150\n",
      "131/131 [==============================] - 0s 350us/step - loss: 0.0363 - acc: 0.9924 - val_loss: 1.7954 - val_acc: 0.6545\n",
      "Epoch 115/150\n",
      "131/131 [==============================] - 0s 396us/step - loss: 0.0657 - acc: 0.9771 - val_loss: 1.7891 - val_acc: 0.6182\n",
      "Epoch 116/150\n",
      "131/131 [==============================] - 0s 472us/step - loss: 0.0748 - acc: 0.9771 - val_loss: 1.7458 - val_acc: 0.6182\n",
      "Epoch 117/150\n",
      "131/131 [==============================] - 0s 678us/step - loss: 0.0674 - acc: 0.9695 - val_loss: 1.6545 - val_acc: 0.6545\n",
      "Epoch 118/150\n",
      "131/131 [==============================] - 0s 876us/step - loss: 0.0747 - acc: 0.9847 - val_loss: 1.5629 - val_acc: 0.6545\n",
      "Epoch 119/150\n",
      "131/131 [==============================] - 0s 738us/step - loss: 0.0604 - acc: 0.9847 - val_loss: 1.5051 - val_acc: 0.6727\n",
      "Epoch 120/150\n",
      "131/131 [==============================] - 0s 586us/step - loss: 0.0343 - acc: 0.9847 - val_loss: 1.5122 - val_acc: 0.6727\n",
      "Epoch 121/150\n"
     ]
    },
    {
     "name": "stdout",
     "output_type": "stream",
     "text": [
      "131/131 [==============================] - 0s 640us/step - loss: 0.0503 - acc: 0.9847 - val_loss: 1.5376 - val_acc: 0.6545\n",
      "Epoch 122/150\n",
      "131/131 [==============================] - 0s 647us/step - loss: 0.0610 - acc: 0.9771 - val_loss: 1.5527 - val_acc: 0.6545\n",
      "Epoch 123/150\n",
      "131/131 [==============================] - 0s 632us/step - loss: 0.0202 - acc: 1.0000 - val_loss: 1.5601 - val_acc: 0.6545\n",
      "Epoch 124/150\n",
      "131/131 [==============================] - 0s 655us/step - loss: 0.0246 - acc: 1.0000 - val_loss: 1.5687 - val_acc: 0.6545\n",
      "Epoch 125/150\n",
      "131/131 [==============================] - 0s 609us/step - loss: 0.0356 - acc: 0.9924 - val_loss: 1.5717 - val_acc: 0.6545\n",
      "Epoch 126/150\n",
      "131/131 [==============================] - 0s 799us/step - loss: 0.0610 - acc: 0.9847 - val_loss: 1.5799 - val_acc: 0.6545\n",
      "Epoch 127/150\n",
      "131/131 [==============================] - 0s 716us/step - loss: 0.0194 - acc: 1.0000 - val_loss: 1.5900 - val_acc: 0.6545\n",
      "Epoch 128/150\n",
      "131/131 [==============================] - 0s 609us/step - loss: 0.0094 - acc: 1.0000 - val_loss: 1.6024 - val_acc: 0.6727\n",
      "Epoch 129/150\n",
      "131/131 [==============================] - 0s 723us/step - loss: 0.0750 - acc: 0.9695 - val_loss: 1.6187 - val_acc: 0.6545\n",
      "Epoch 130/150\n",
      "131/131 [==============================] - 0s 655us/step - loss: 0.0236 - acc: 0.9924 - val_loss: 1.6417 - val_acc: 0.6545\n",
      "Epoch 131/150\n",
      "131/131 [==============================] - 0s 640us/step - loss: 0.0315 - acc: 0.9847 - val_loss: 1.6675 - val_acc: 0.6545\n",
      "Epoch 132/150\n",
      "131/131 [==============================] - 0s 708us/step - loss: 0.0197 - acc: 1.0000 - val_loss: 1.7122 - val_acc: 0.6364\n",
      "Epoch 133/150\n",
      "131/131 [==============================] - 0s 708us/step - loss: 0.0230 - acc: 0.9924 - val_loss: 1.7459 - val_acc: 0.6364\n",
      "Epoch 134/150\n",
      "131/131 [==============================] - 0s 579us/step - loss: 0.0108 - acc: 1.0000 - val_loss: 1.7697 - val_acc: 0.6364\n",
      "Epoch 135/150\n",
      "131/131 [==============================] - 0s 708us/step - loss: 0.0455 - acc: 0.9924 - val_loss: 1.7317 - val_acc: 0.6364\n",
      "Epoch 136/150\n",
      "131/131 [==============================] - 0s 586us/step - loss: 0.0159 - acc: 1.0000 - val_loss: 1.7097 - val_acc: 0.6364\n",
      "Epoch 137/150\n",
      "131/131 [==============================] - 0s 533us/step - loss: 0.0541 - acc: 0.9847 - val_loss: 1.6878 - val_acc: 0.6545\n",
      "Epoch 138/150\n",
      "131/131 [==============================] - 0s 609us/step - loss: 0.0225 - acc: 0.9847 - val_loss: 1.7087 - val_acc: 0.6545\n",
      "Epoch 139/150\n",
      "131/131 [==============================] - 0s 533us/step - loss: 0.0134 - acc: 1.0000 - val_loss: 1.7956 - val_acc: 0.6364\n",
      "Epoch 140/150\n",
      "131/131 [==============================] - 0s 792us/step - loss: 0.0347 - acc: 0.9924 - val_loss: 2.2140 - val_acc: 0.5818\n",
      "Epoch 141/150\n",
      "131/131 [==============================] - 0s 632us/step - loss: 0.0352 - acc: 0.9924 - val_loss: 2.5157 - val_acc: 0.5818\n",
      "Epoch 142/150\n",
      "131/131 [==============================] - 0s 693us/step - loss: 0.1523 - acc: 0.9542 - val_loss: 2.4592 - val_acc: 0.5636\n",
      "Epoch 143/150\n",
      "131/131 [==============================] - 0s 624us/step - loss: 0.2365 - acc: 0.9389 - val_loss: 2.2957 - val_acc: 0.5818\n",
      "Epoch 144/150\n",
      "131/131 [==============================] - 0s 716us/step - loss: 0.1120 - acc: 0.9695 - val_loss: 2.1196 - val_acc: 0.6182\n",
      "Epoch 145/150\n",
      "131/131 [==============================] - 0s 723us/step - loss: 0.0683 - acc: 0.9847 - val_loss: 2.0149 - val_acc: 0.6364\n",
      "Epoch 146/150\n",
      "131/131 [==============================] - 0s 723us/step - loss: 0.0129 - acc: 1.0000 - val_loss: 1.9666 - val_acc: 0.6545\n",
      "Epoch 147/150\n",
      "131/131 [==============================] - 0s 617us/step - loss: 0.0244 - acc: 0.9924 - val_loss: 1.9756 - val_acc: 0.6364\n",
      "Epoch 148/150\n",
      "131/131 [==============================] - 0s 769us/step - loss: 0.0559 - acc: 0.9771 - val_loss: 2.0718 - val_acc: 0.6182\n",
      "Epoch 149/150\n",
      "131/131 [==============================] - 0s 883us/step - loss: 0.0154 - acc: 0.9924 - val_loss: 2.1816 - val_acc: 0.6545\n",
      "Epoch 150/150\n",
      "131/131 [==============================] - 0s 617us/step - loss: 0.0519 - acc: 0.9924 - val_loss: 2.2165 - val_acc: 0.6545\n"
     ]
    }
   ],
   "source": [
    "hist=model.fit(padded_list,y_c,epochs=150,batch_size=64,callbacks=[checkpoint],validation_data=(padded_test_list,y_ct))\n"
   ]
  },
  {
   "cell_type": "code",
   "execution_count": 63,
   "metadata": {},
   "outputs": [
    {
     "data": {
      "image/png": "[encoded data removed]",
      "text/plain": [
       "<Figure size 432x288 with 1 Axes>"
      ]
     },
     "metadata": {
      "needs_background": "light"
     },
     "output_type": "display_data"
    },
    {
     "data": {
      "image/png": "[encoded data removed]",
      "text/plain": [
       "<Figure size 432x288 with 1 Axes>"
      ]
     },
     "metadata": {
      "needs_background": "light"
     },
     "output_type": "display_data"
    }
   ],
   "source": [
    "import matplotlib.pyplot as plt\n",
    "plt.plot(hist.history['loss'],color='yellow')\n",
    "plt.plot(hist.history['val_loss'],color='red')\n",
    "plt.show()\n",
    "plt.plot(hist.history['acc'],color='green')\n",
    "plt.plot(hist.history['val_acc'],color='pink')\n",
    "plt.show()"
   ]
  },
  {
   "cell_type": "code",
   "execution_count": 64,
   "metadata": {},
   "outputs": [],
   "source": [
    "from keras.models import load_model\n",
    "m=load_model('best_model.h5')"
   ]
  },
  {
   "cell_type": "code",
   "execution_count": 66,
   "metadata": {},
   "outputs": [
    {
     "name": "stdout",
     "output_type": "stream",
     "text": [
      "55/55 [==============================] - 0s 181us/step\n"
     ]
    },
    {
     "data": {
      "text/plain": [
       "[2.216485782103105, 0.6545454556291753]"
      ]
     },
     "execution_count": 66,
     "metadata": {},
     "output_type": "execute_result"
    }
   ],
   "source": [
    "# from our model\n",
    "model.evaluate(padded_test_list,y_ct)"
   ]
  },
  {
   "cell_type": "code",
   "execution_count": 65,
   "metadata": {},
   "outputs": [
    {
     "name": "stdout",
     "output_type": "stream",
     "text": [
      "55/55 [==============================] - 0s 6ms/step\n"
     ]
    },
    {
     "data": {
      "text/plain": [
       "[1.5160657015713779, 0.6727272694761103]"
      ]
     },
     "execution_count": 65,
     "metadata": {},
     "output_type": "execute_result"
    }
   ],
   "source": [
    "# from saved best model\n",
    "m.evaluate(padded_test_list,y_ct)"
   ]
  },
  {
   "cell_type": "code",
   "execution_count": 68,
   "metadata": {},
   "outputs": [],
   "source": [
    "# Predicting \n",
    "pred=m.predict(padded_test_list)"
   ]
  },
  {
   "cell_type": "code",
   "execution_count": 74,
   "metadata": {},
   "outputs": [],
   "source": [
    "predictions=[]\n",
    "for i in range(len(pred)):\n",
    "    a=np.argmax(pred[i])\n",
    "    predictions.append(a)"
   ]
  },
  {
   "cell_type": "code",
   "execution_count": 91,
   "metadata": {},
   "outputs": [
    {
     "data": {
      "text/plain": [
       "67.27272727272727"
      ]
     },
     "execution_count": 91,
     "metadata": {},
     "output_type": "execute_result"
    }
   ],
   "source": [
    "#ACCURACY\n",
    "acc=(np.sum(predictions==y_test)/y_test.shape[0])*100\n",
    "acc"
   ]
  },
  {
   "cell_type": "code",
   "execution_count": 84,
   "metadata": {},
   "outputs": [
    {
     "data": {
      "text/plain": [
       "3"
      ]
     },
     "execution_count": 84,
     "metadata": {},
     "output_type": "execute_result"
    }
   ],
   "source": [
    "predictions[0]"
   ]
  },
  {
   "cell_type": "code",
   "execution_count": 90,
   "metadata": {},
   "outputs": [
    {
     "name": "stdout",
     "output_type": "stream",
     "text": [
      "he did not answer\t\n",
      "😞 😞\n",
      "he got a raise\t\n",
      "❤ 😄\n",
      "she got me a present\t\n",
      "❤ ❤\n",
      "ha ha ha it was so funny\t\n",
      "😄 😄\n",
      "he is a good friend\t\n",
      "😄 ❤\n",
      "I am upset\t\n",
      "😞 ❤\n",
      "We had such a lovely dinner tonight\t\n",
      "😄 ❤\n",
      "where is the food\t\n",
      "🍴 🍴\n",
      "Stop making this joke ha ha ha\t\n",
      "😄 😄\n",
      "where is the ball\t\n",
      "⚾ ⚾\n",
      "work is hard\t\n",
      "😄 😞\n",
      "This girl is messing with me\t\n",
      "😞 😞\n",
      "are you serious ha ha\t\n",
      "❤ 😄\n",
      "Let us go play baseball\t\n",
      "⚾ ⚾\n",
      "This stupid grader is not working \t\n",
      "😞 😞\n",
      "work is horrible\t\n",
      "😞 😞\n",
      "Congratulation for having a baby\t\n",
      "❤ 😄\n",
      "stop messing around\t\n",
      "😞 😞\n",
      "any suggestions for dinner\t\n",
      "🍴 🍴\n",
      "I love taking breaks\t\n",
      "❤ ❤\n",
      "you brighten my day\t\n",
      "❤ 😄\n",
      "I boiled rice\t\n",
      "🍴 🍴\n",
      "she is a bully\t\n",
      "❤ 😞\n",
      "Why are you feeling bad\t\n",
      "😞 😞\n",
      "I am upset\t\n",
      "😞 😞\n",
      "I worked during my birthday\t\n",
      "😄 😞\n",
      "My grandmother is the love of my life\t\n",
      "😄 ❤\n",
      "enjoy your break\t\n",
      "⚾ 😄\n",
      "valentine day is near\t\n",
      "😄 ❤\n",
      "I miss you so much\t\n",
      "❤ ❤\n",
      "throw the ball\t\n",
      "⚾ ⚾\n",
      "My life is so boring\t\n",
      "😞 😞\n",
      "she said yes\t\n",
      "😄 😄\n",
      "will you be my valentine\t\n",
      "❤ ❤\n",
      "he can pitch really well\t\n",
      "❤ ⚾\n",
      "dance with me\t\n",
      "😄 😄\n",
      "I am starving\t\n",
      "🍴 🍴\n",
      "See you at the restaurant\t\n",
      "🍴 🍴\n",
      "I like to laugh\t\n",
      "😄 😄\n",
      "I will go dance\n",
      "😄 😄\n",
      "I like your jacket \t\n",
      "😞 😄\n",
      "i miss her\t\n",
      "❤ ❤\n",
      "what is your favorite baseball game\t\n",
      "⚾ ⚾\n",
      "Good job\t\n",
      "😄 😄\n",
      "I love to the stars and back\t\n",
      "⚾ ❤\n",
      "What you did was awesome\t\n",
      "😄 😄\n",
      "ha ha ha lol\t\n",
      "😄 😄\n",
      "I want to joke\t\n",
      "😄 😄\n",
      "go away\t\n",
      "😞 😞\n",
      "yesterday we lost again\t\n",
      "😞 😞\n",
      "family is all I have\t\n",
      "😞 ❤\n",
      "you are failing this exercise\t\n",
      "😞 😞\n",
      "Good joke\t\n",
      "😄 😄\n",
      "You totally deserve this prize\t\n",
      "😄 😄\n",
      "I did not have breakfast \n",
      "🍴 😞\n"
     ]
    }
   ],
   "source": [
    "# visualising the results\n",
    "# first emoji shown is predicted by our model\n",
    "#while the second one is from our given data\n",
    "\n",
    "for i in range(x_test.shape[0]):\n",
    "    \n",
    "    print(x_test[i])\n",
    "    p=predictions[i]\n",
    "    t=y_test[i]\n",
    "    s=emoji.emojize(emoji_dict[str(p)],use_aliases=True)\n",
    "    a=emoji.emojize(emoji_dict[str(t)],use_aliases=True)\n",
    "    print(s,a)\n",
    "    "
   ]
  },
  {
   "cell_type": "code",
   "execution_count": 92,
   "metadata": {},
   "outputs": [],
   "source": [
    "#i hope,its all clear\n",
    "# thank you :)"
   ]
  },
  {
   "cell_type": "code",
   "execution_count": null,
   "metadata": {},
   "outputs": [],
   "source": []
  },
  {
   "cell_type": "code",
   "execution_count": null,
   "metadata": {},
   "outputs": [],
   "source": []
  },
  {
   "cell_type": "code",
   "execution_count": null,
   "metadata": {},
   "outputs": [],
   "source": []
  },
  {
   "cell_type": "code",
   "execution_count": null,
   "metadata": {},
   "outputs": [],
   "source": []
  },
  {
   "cell_type": "code",
   "execution_count": null,
   "metadata": {},
   "outputs": [],
   "source": []
  },
  {
   "cell_type": "code",
   "execution_count": null,
   "metadata": {},
   "outputs": [],
   "source": []
  },
  {
   "cell_type": "code",
   "execution_count": null,
   "metadata": {},
   "outputs": [],
   "source": []
  }
 ],
 "metadata": {
  "kernelspec": {
   "display_name": "Python 3",
   "language": "python",
   "name": "python3"
  },
  "language_info": {
   "codemirror_mode": {
    "name": "ipython",
    "version": 3
   },
   "file_extension": ".py",
   "mimetype": "text/x-python",
   "name": "python",
   "nbconvert_exporter": "python",
   "pygments_lexer": "ipython3",
   "version": "3.6.7"
  }
 },
 "nbformat": 4,
 "nbformat_minor": 2
}
